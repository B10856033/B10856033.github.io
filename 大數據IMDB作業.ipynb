{
  "nbformat": 4,
  "nbformat_minor": 0,
  "metadata": {
    "colab": {
      "name": "大數據IMDB作業.ipynb",
      "provenance": [],
      "authorship_tag": "ABX9TyO1pIhILvpt/bxCNpPKE6KR",
      "include_colab_link": true
    },
    "kernelspec": {
      "name": "python3",
      "display_name": "Python 3"
    },
    "language_info": {
      "name": "python"
    },
    "accelerator": "GPU"
  },
  "cells": [
    {
      "cell_type": "markdown",
      "metadata": {
        "id": "view-in-github",
        "colab_type": "text"
      },
      "source": [
        "<a href=\"https://colab.research.google.com/github/B10856033/B10856033.github.io/blob/master/%E5%A4%A7%E6%95%B8%E6%93%9AIMDB%E4%BD%9C%E6%A5%AD.ipynb\" target=\"_parent\"><img src=\"https://colab.research.google.com/assets/colab-badge.svg\" alt=\"Open In Colab\"/></a>"
      ]
    },
    {
      "cell_type": "code",
      "execution_count": 1,
      "metadata": {
        "colab": {
          "base_uri": "https://localhost:8080/"
        },
        "id": "c6IsnHq8SL_V",
        "outputId": "2b2e3472-67d0-477e-bee2-26bdd69e0e0e"
      },
      "outputs": [
        {
          "output_type": "stream",
          "name": "stdout",
          "text": [
            "--2022-05-16 15:03:47--  https://ai.stanford.edu/~amaas/data/sentiment/aclImdb_v1.tar.gz\n",
            "Resolving ai.stanford.edu (ai.stanford.edu)... 171.64.68.10\n",
            "Connecting to ai.stanford.edu (ai.stanford.edu)|171.64.68.10|:443... connected.\n",
            "HTTP request sent, awaiting response... 200 OK\n",
            "Length: 84125825 (80M) [application/x-gzip]\n",
            "Saving to: ‘aclImdb_v1.tar.gz.2’\n",
            "\n",
            "aclImdb_v1.tar.gz.2 100%[===================>]  80.23M  35.6MB/s    in 2.3s    \n",
            "\n",
            "2022-05-16 15:03:49 (35.6 MB/s) - ‘aclImdb_v1.tar.gz.2’ saved [84125825/84125825]\n",
            "\n"
          ]
        }
      ],
      "source": [
        "!wget https://ai.stanford.edu/~amaas/data/sentiment/aclImdb_v1.tar.gz"
      ]
    },
    {
      "cell_type": "code",
      "source": [
        "!tar -zxf aclImdb_v1.tar.gz"
      ],
      "metadata": {
        "id": "v93D6F0OSb9h"
      },
      "execution_count": 2,
      "outputs": []
    },
    {
      "cell_type": "code",
      "source": [
        "import re\n",
        "from os import listdir\n",
        "from keras.preprocessing import sequence\n",
        "from keras_preprocessing.text import Tokenizer\n",
        "\n",
        "#Imdb資料所在目錄\n",
        "path = \"aclImdb/\"\n",
        "#建立檔案清單\n",
        "fList = [path + \"train/pos/\" + x for x in listdir(path + \"train/pos\")] + \\\n",
        "       [path + \"train/neg/\" + x for x in listdir(path + \"train/neg\")] + \\\n",
        "       [path + \"test/pos/\" + x for x in listdir(path + \"test/pos\")] + \\\n",
        "       [path + \"test/neg/\" + x for x in listdir(path + \"test/neg\")]\n",
        "\n",
        "#刪除HTML標籤符號\n",
        "def remove_tags(text):\n",
        "  TAG = re.compile(r'<[^>]+>')\n",
        "  return TAG.sub('',text)\n",
        "#讀取文字檔案資料\n",
        "input_label = ([1] * 12500 + [0] * 12500) * 2\n",
        "input_text = []\n",
        "#讀取檔案內容\n",
        "for fname in fList:\n",
        "  with open(fname, encoding=\"utf8\") as ff:\n",
        "    input_text += [remove_tags(\" \".join(ff.readlines()))]\n",
        "print(input_text[5])\n",
        "print(input_label[5])\n",
        "#將文字分割成單字， 建立詞索引字典\n",
        "tok = Tokenizer(num_words=2000)\n",
        "tok.fit_on_texts(input_text[:25000])\n",
        "print(\"文件數: \", tok.document_count)\n",
        "print({k: tok.word_index[k] for k in list(tok.word_index)[:10]})\n",
        "#建立訓練及測試資料集\n",
        "X_train = tok.texts_to_sequences(input_text[:25000])\n",
        "X_test = tok.texts_to_sequences(input_text[25000:])\n",
        "Y_train = input_label[:25000]\n",
        "Y_test = input_label[25000:]\n",
        "#將序列資料填充成相同長度\n",
        "X_train = sequence.pad_sequences(X_train, maxlen=100)\n",
        "X_test = sequence.pad_sequences(X_test, maxlen=100)\n",
        "print(\"X_train.shape: \",X_train.shape)\n",
        "print(\"X_test.shape: \",X_test.shape)"
      ],
      "metadata": {
        "colab": {
          "base_uri": "https://localhost:8080/"
        },
        "id": "nRq5fpw_SjIn",
        "outputId": "8c0d9bde-6f1b-47f5-9d18-4571d230f431"
      },
      "execution_count": 3,
      "outputs": [
        {
          "output_type": "stream",
          "name": "stdout",
          "text": [
            "This movie is awesome on so many levels... and none of them are the level that it was intended to be awesome on.Just remember this: When you're watching Shaun of the Dead and other recent zombie movies... be they good or bad... THIS is the formula that they are using. THIS is what makes zombie movies so great.And what makes it BETTER than great is the story behind the movie. A simple web search will provide you with everything you need to know.All in all, it doesn't linger. There's never a point where you think to yourself \"c'mon, get on with it\"... it moves quick and corners nicely. This is the sporty, little Italian number of zombie flicks.So awful, it's wonderful! If your tongue spends an ample amount of time in your cheek... rent it, buy it, love it.As a great trivia note: If you're watching it on DVD, you'll notice that there is sound effects during the menu screen, underneath the musical score... Well... that's because that music was lifted straight from the trailer... which is probably the only working print of that music that still exists which is long enough to loop.\n",
            "1\n",
            "文件數:  25000\n",
            "{'the': 1, 'and': 2, 'a': 3, 'of': 4, 'to': 5, 'is': 6, 'in': 7, 'it': 8, 'i': 9, 'this': 10}\n",
            "X_train.shape:  (25000, 100)\n",
            "X_test.shape:  (25000, 100)\n"
          ]
        }
      ]
    },
    {
      "cell_type": "code",
      "source": [
        "import numpy as np\n",
        "from keras.datasets import imdb\n",
        "from keras_preprocessing import sequence\n",
        "from keras.models import Sequential\n",
        "from keras.layers import Dense, Dropout, Flatten, Embedding, LSTM \n",
        "from tensorflow.keras.utils import to_categorical\n",
        "\n",
        "#定義模型\n",
        "model = Sequential()\n",
        "model.add(Embedding(2000, 32, input_length=100))\n",
        "model.add(Dropout(0.25))\n",
        "model.add(Flatten())\n",
        "model.add(Dense(256,activation=\"relu\"))\n",
        "model.add(Dropout(0.25))\n",
        "model.add(Dense(46, activation=\"sigmoid\"))\n",
        "model.summary()  #顯示模型摘要資訊\n",
        "\n",
        "#編譯模型\n",
        "model.compile(loss=\"categorical_crossentropy\",optimizer=\"adam\",\n",
        "              metrics=[\"accuracy\"])\n",
        "#訓練模型\n",
        "history = model.fit(X_train,Y_train,validation_split=0.2,epochs=40,batch_size=32,verbose=2)\n",
        "\n",
        "#評估結果\n",
        "loss,accuracy = model.evaluate(X_test,Y_test)\n",
        "print(\"訓練資料集準確度 = {:.2f}\".format(accuracy))\n",
        "\n",
        "import matplotlib.pyplot as plt\n",
        "\n",
        "loss = history.history[\"loss\"]\n",
        "epochs = range(1,len(loss)+1)\n",
        "val_loss = history.history[\"val_loss\"]\n",
        "plt.plot(epochs,loss,\"bo\",label=\"Training Loss\")\n",
        "plt.plot(epochs,val_loss,\"r\",label=\"Validation Loss\")\n",
        "plt.title(\"Trsining and Validation Loss\")\n",
        "plt.xlabel(\"Epochs\")\n",
        "plt.ylabel(\"Loss\")\n",
        "plt.legend()\n",
        "plt.show()\n",
        "\n",
        "#顯示訓練和驗證準確度\n",
        "acc = history.history[\"accuracy\"]\n",
        "epochs = range(1,len(acc)+1)\n",
        "val_acc = history.history[\"val_accuracy\"]\n",
        "plt.plot(epochs,acc,\"b-\",label=\"Training Acc\")\n",
        "plt.plot(epochs,val_acc,\"r--\",label=\"Validation Acc\")\n",
        "plt.title(\"Trsining and Validation Accuracy\")\n",
        "plt.xlabel(\"Epochs\")\n",
        "plt.ylabel(\"Accuracy\")\n",
        "plt.legend()\n",
        "plt.show()"
      ],
      "metadata": {
        "colab": {
          "base_uri": "https://localhost:8080/",
          "height": 1000
        },
        "id": "JyBTrgTvVc5r",
        "outputId": "01d4d5dc-5440-4a16-8504-916f98b73e9f"
      },
      "execution_count": 9,
      "outputs": [
        {
          "output_type": "stream",
          "name": "stdout",
          "text": [
            "Model: \"sequential_5\"\n",
            "_________________________________________________________________\n",
            " Layer (type)                Output Shape              Param #   \n",
            "=================================================================\n",
            " embedding_2 (Embedding)     (None, 100, 32)           64000     \n",
            "                                                                 \n",
            " dropout_3 (Dropout)         (None, 100, 32)           0         \n",
            "                                                                 \n",
            " flatten (Flatten)           (None, 3200)              0         \n",
            "                                                                 \n",
            " dense_1 (Dense)             (None, 256)               819456    \n",
            "                                                                 \n",
            " dropout_4 (Dropout)         (None, 256)               0         \n",
            "                                                                 \n",
            " dense_2 (Dense)             (None, 46)                11822     \n",
            "                                                                 \n",
            "=================================================================\n",
            "Total params: 895,278\n",
            "Trainable params: 895,278\n",
            "Non-trainable params: 0\n",
            "_________________________________________________________________\n",
            "Epoch 1/40\n",
            "625/625 - 3s - loss: 0.5445 - accuracy: 0.7605 - val_loss: 0.3107 - val_accuracy: 0.8656 - 3s/epoch - 4ms/step\n",
            "Epoch 2/40\n",
            "625/625 - 2s - loss: 0.2752 - accuracy: 0.8875 - val_loss: 0.6254 - val_accuracy: 0.7278 - 2s/epoch - 3ms/step\n",
            "Epoch 3/40\n",
            "625/625 - 2s - loss: 0.1688 - accuracy: 0.9363 - val_loss: 0.5845 - val_accuracy: 0.7830 - 2s/epoch - 3ms/step\n",
            "Epoch 4/40\n",
            "625/625 - 2s - loss: 0.0926 - accuracy: 0.9649 - val_loss: 1.1041 - val_accuracy: 0.7010 - 2s/epoch - 3ms/step\n",
            "Epoch 5/40\n",
            "625/625 - 2s - loss: 0.0636 - accuracy: 0.9757 - val_loss: 1.3578 - val_accuracy: 0.6844 - 2s/epoch - 4ms/step\n",
            "Epoch 6/40\n",
            "625/625 - 2s - loss: 0.0549 - accuracy: 0.9797 - val_loss: 0.9931 - val_accuracy: 0.7682 - 2s/epoch - 3ms/step\n",
            "Epoch 7/40\n",
            "625/625 - 2s - loss: 0.0432 - accuracy: 0.9850 - val_loss: 1.3365 - val_accuracy: 0.7324 - 2s/epoch - 3ms/step\n",
            "Epoch 8/40\n",
            "625/625 - 2s - loss: 0.0381 - accuracy: 0.9863 - val_loss: 1.2648 - val_accuracy: 0.7472 - 2s/epoch - 3ms/step\n",
            "Epoch 9/40\n",
            "625/625 - 2s - loss: 0.0356 - accuracy: 0.9870 - val_loss: 1.5507 - val_accuracy: 0.7136 - 2s/epoch - 3ms/step\n",
            "Epoch 10/40\n",
            "625/625 - 2s - loss: 0.0335 - accuracy: 0.9868 - val_loss: 1.3352 - val_accuracy: 0.7412 - 2s/epoch - 3ms/step\n",
            "Epoch 11/40\n",
            "625/625 - 2s - loss: 0.0309 - accuracy: 0.9887 - val_loss: 1.3594 - val_accuracy: 0.7436 - 2s/epoch - 3ms/step\n",
            "Epoch 12/40\n",
            "625/625 - 3s - loss: 0.0266 - accuracy: 0.9902 - val_loss: 1.3172 - val_accuracy: 0.7468 - 3s/epoch - 4ms/step\n",
            "Epoch 13/40\n",
            "625/625 - 2s - loss: 0.0229 - accuracy: 0.9919 - val_loss: 1.6742 - val_accuracy: 0.7032 - 2s/epoch - 3ms/step\n",
            "Epoch 14/40\n",
            "625/625 - 2s - loss: 0.0239 - accuracy: 0.9912 - val_loss: 1.7189 - val_accuracy: 0.7044 - 2s/epoch - 3ms/step\n",
            "Epoch 15/40\n",
            "625/625 - 2s - loss: 0.0221 - accuracy: 0.9920 - val_loss: 1.9063 - val_accuracy: 0.6992 - 2s/epoch - 3ms/step\n",
            "Epoch 16/40\n",
            "625/625 - 2s - loss: 0.0188 - accuracy: 0.9938 - val_loss: 1.6218 - val_accuracy: 0.7270 - 2s/epoch - 3ms/step\n",
            "Epoch 17/40\n",
            "625/625 - 2s - loss: 0.0222 - accuracy: 0.9918 - val_loss: 1.4592 - val_accuracy: 0.7484 - 2s/epoch - 3ms/step\n",
            "Epoch 18/40\n",
            "625/625 - 2s - loss: 0.0163 - accuracy: 0.9948 - val_loss: 1.4170 - val_accuracy: 0.7588 - 2s/epoch - 4ms/step\n",
            "Epoch 19/40\n",
            "625/625 - 2s - loss: 0.0204 - accuracy: 0.9929 - val_loss: 1.4579 - val_accuracy: 0.7522 - 2s/epoch - 3ms/step\n",
            "Epoch 20/40\n",
            "625/625 - 2s - loss: 0.0189 - accuracy: 0.9937 - val_loss: 1.7011 - val_accuracy: 0.7160 - 2s/epoch - 3ms/step\n",
            "Epoch 21/40\n",
            "625/625 - 2s - loss: 0.0193 - accuracy: 0.9928 - val_loss: 1.4842 - val_accuracy: 0.7536 - 2s/epoch - 3ms/step\n",
            "Epoch 22/40\n",
            "625/625 - 2s - loss: 0.0166 - accuracy: 0.9944 - val_loss: 1.8452 - val_accuracy: 0.7172 - 2s/epoch - 3ms/step\n",
            "Epoch 23/40\n",
            "625/625 - 2s - loss: 0.0136 - accuracy: 0.9955 - val_loss: 1.5782 - val_accuracy: 0.7552 - 2s/epoch - 3ms/step\n",
            "Epoch 24/40\n",
            "625/625 - 2s - loss: 0.0171 - accuracy: 0.9940 - val_loss: 1.6600 - val_accuracy: 0.7404 - 2s/epoch - 3ms/step\n",
            "Epoch 25/40\n",
            "625/625 - 2s - loss: 0.0161 - accuracy: 0.9949 - val_loss: 1.7327 - val_accuracy: 0.7268 - 2s/epoch - 3ms/step\n",
            "Epoch 26/40\n",
            "625/625 - 2s - loss: 0.0143 - accuracy: 0.9952 - val_loss: 1.8777 - val_accuracy: 0.7344 - 2s/epoch - 3ms/step\n",
            "Epoch 27/40\n",
            "625/625 - 2s - loss: 0.0169 - accuracy: 0.9935 - val_loss: 1.7792 - val_accuracy: 0.7358 - 2s/epoch - 3ms/step\n",
            "Epoch 28/40\n",
            "625/625 - 2s - loss: 0.0138 - accuracy: 0.9956 - val_loss: 1.7360 - val_accuracy: 0.7414 - 2s/epoch - 3ms/step\n",
            "Epoch 29/40\n",
            "625/625 - 2s - loss: 0.0132 - accuracy: 0.9956 - val_loss: 1.7876 - val_accuracy: 0.7276 - 2s/epoch - 3ms/step\n",
            "Epoch 30/40\n",
            "625/625 - 2s - loss: 0.0124 - accuracy: 0.9955 - val_loss: 1.6032 - val_accuracy: 0.7550 - 2s/epoch - 3ms/step\n",
            "Epoch 31/40\n",
            "625/625 - 2s - loss: 0.0119 - accuracy: 0.9961 - val_loss: 1.8056 - val_accuracy: 0.7334 - 2s/epoch - 3ms/step\n",
            "Epoch 32/40\n",
            "625/625 - 2s - loss: 0.0150 - accuracy: 0.9950 - val_loss: 2.1403 - val_accuracy: 0.6830 - 2s/epoch - 3ms/step\n",
            "Epoch 33/40\n",
            "625/625 - 2s - loss: 0.0127 - accuracy: 0.9952 - val_loss: 1.8641 - val_accuracy: 0.7332 - 2s/epoch - 3ms/step\n",
            "Epoch 34/40\n",
            "625/625 - 2s - loss: 0.0140 - accuracy: 0.9948 - val_loss: 1.8829 - val_accuracy: 0.7270 - 2s/epoch - 3ms/step\n",
            "Epoch 35/40\n",
            "625/625 - 2s - loss: 0.0127 - accuracy: 0.9957 - val_loss: 1.9041 - val_accuracy: 0.7140 - 2s/epoch - 3ms/step\n",
            "Epoch 36/40\n",
            "625/625 - 2s - loss: 0.0120 - accuracy: 0.9956 - val_loss: 1.3247 - val_accuracy: 0.7734 - 2s/epoch - 4ms/step\n",
            "Epoch 37/40\n",
            "625/625 - 2s - loss: 0.0125 - accuracy: 0.9961 - val_loss: 1.5775 - val_accuracy: 0.7552 - 2s/epoch - 3ms/step\n",
            "Epoch 38/40\n",
            "625/625 - 2s - loss: 0.0105 - accuracy: 0.9963 - val_loss: 1.9657 - val_accuracy: 0.7212 - 2s/epoch - 3ms/step\n",
            "Epoch 39/40\n",
            "625/625 - 2s - loss: 0.0122 - accuracy: 0.9959 - val_loss: 2.3675 - val_accuracy: 0.6884 - 2s/epoch - 3ms/step\n",
            "Epoch 40/40\n",
            "625/625 - 2s - loss: 0.0102 - accuracy: 0.9963 - val_loss: 2.0148 - val_accuracy: 0.7278 - 2s/epoch - 3ms/step\n",
            "782/782 [==============================] - 2s 2ms/step - loss: 1.2715 - accuracy: 0.8145\n",
            "訓練資料集準確度 = 0.81\n"
          ]
        },
        {
          "output_type": "display_data",
          "data": {
            "text/plain": [
              "<Figure size 432x288 with 1 Axes>"
            ],
            "image/png": "[encoded data removed]"
          },
          "metadata": {
            "needs_background": "light"
          }
        },
        {
          "output_type": "display_data",
          "data": {
            "text/plain": [
              "<Figure size 432x288 with 1 Axes>"
            ],
            "image/png": "[encoded data removed]"
          },
          "metadata": {
            "needs_background": "light"
          }
        }
      ]
    }
  ]
}